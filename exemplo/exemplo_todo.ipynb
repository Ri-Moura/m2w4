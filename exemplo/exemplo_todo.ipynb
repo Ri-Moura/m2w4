{
 "cells": [
  {
   "cell_type": "code",
   "execution_count": 1,
   "metadata": {},
   "outputs": [],
   "source": [
    "import sqlite3\n",
    "from sqlite3 import Error\n",
    "\n",
    "def create_connection(db_file):\n",
    "    \"\"\"Cria uma conexão com o banco de dados SQLite especificado pelo arquivo db_file.\"\"\"\n",
    "    conn = None\n",
    "    try:\n",
    "        conn = sqlite3.connect(db_file)\n",
    "    except Error as e:\n",
    "        print(e)\n",
    "\n",
    "    return conn\n",
    "\n",
    "def create_table(conn, create_table_sql):\n",
    "    \"\"\"Cria uma tabela no banco de dados SQLite usando a conexão e a consulta SQL fornecidas.\"\"\"\n",
    "    try:\n",
    "        c = conn.cursor()\n",
    "        c.execute(create_table_sql)\n",
    "    except Error as e:\n",
    "        print(e)\n",
    "\n",
    "def create_task(conn, task):\n",
    "    \"\"\"Cria uma nova tarefa no banco de dados SQLite com a conexão fornecida e retorna seu ID.\"\"\"\n",
    "    sql = ''' INSERT INTO tasks(title, description, due_date)\n",
    "              VALUES(?,?,?) '''\n",
    "    cur = conn.cursor()\n",
    "    cur.execute(sql, task)\n",
    "    return cur.lastrowid\n",
    "\n",
    "def list_tasks(conn):\n",
    "    \"\"\"Lista todas as tarefas no banco de dados SQLite com a conexão fornecida.\"\"\"\n",
    "    cur = conn.cursor()\n",
    "    cur.execute(\"SELECT * FROM tasks\")\n",
    "    \n",
    "    rows = cur.fetchall()\n",
    "    for row in rows:\n",
    "        print(row)\n",
    "\n",
    "def delete_task(conn, id):\n",
    "    \"\"\"Exclui uma tarefa existente no banco de dados SQLite com a conexão fornecida usando o ID fornecido.\"\"\"\n",
    "    sql = 'DELETE FROM tasks WHERE id=?'\n",
    "    cur = conn.cursor()\n",
    "    cur.execute(sql, (id,))\n",
    "    conn.commit()\n"
   ]
  },
  {
   "cell_type": "code",
   "execution_count": 2,
   "metadata": {},
   "outputs": [
    {
     "name": "stdout",
     "output_type": "stream",
     "text": [
      "Tarefas antes da exclusão:\n",
      "(1, 'Fazer compras', 'Comprar itens para a casa', '2023-03-30')\n",
      "\n",
      "Tarefas após a exclusão:\n"
     ]
    }
   ],
   "source": [
    "def main():\n",
    "    database = \"task_app_simple.db\"\n",
    "    \n",
    "    # Consulta SQL para criar a tabela de tarefas\n",
    "    sql_create_tasks_table = \"\"\"CREATE TABLE IF NOT EXISTS tasks (\n",
    "                                id INTEGER PRIMARY KEY,\n",
    "                                title TEXT NOT NULL,\n",
    "                                description TEXT,\n",
    "                                due_date TEXT NOT NULL\n",
    "                            );\"\"\"\n",
    "    \n",
    "    # Cria conexão com o DB\n",
    "    conn = create_connection(database)\n",
    "\n",
    "    # Testa a conexão, caso ela já tenha sido feita, executa as queries. Caso não, printa erro!\n",
    "    if conn is not None:\n",
    "        create_table(conn, sql_create_tasks_table)\n",
    "    else:\n",
    "        print(\"Error! Não foi possível conectar ao banco de dados.\")\n",
    "\n",
    "    # Exemplo de uso das funções\n",
    "    task = (\"Fazer compras\", \"Comprar itens para a casa\", \"2023-03-30\")\n",
    "    task_id = create_task(conn, task)\n",
    "\n",
    "    print(\"Tarefas antes da exclusão:\")\n",
    "    list_tasks(conn)\n",
    "\n",
    "    delete_task(conn, task_id)\n",
    "\n",
    "    print(\"\\nTarefas após a exclusão:\")\n",
    "    list_tasks(conn)\n",
    "\n",
    "if __name__ == '__main__':\n",
    "    main()"
   ]
  },
  {
   "cell_type": "code",
   "execution_count": null,
   "metadata": {},
   "outputs": [],
   "source": []
  }
 ],
 "metadata": {
  "kernelspec": {
   "display_name": "ultimaschool",
   "language": "python",
   "name": "python3"
  },
  "language_info": {
   "codemirror_mode": {
    "name": "ipython",
    "version": 3
   },
   "file_extension": ".py",
   "mimetype": "text/x-python",
   "name": "python",
   "nbconvert_exporter": "python",
   "pygments_lexer": "ipython3",
   "version": "3.10.9"
  },
  "orig_nbformat": 4
 },
 "nbformat": 4,
 "nbformat_minor": 2
}
