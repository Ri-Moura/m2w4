{
 "cells": [
  {
   "attachments": {},
   "cell_type": "markdown",
   "metadata": {},
   "source": [
    "### Importando nossas bibliotecas"
   ]
  },
  {
   "cell_type": "code",
   "execution_count": 1,
   "metadata": {},
   "outputs": [],
   "source": [
    "import sqlite3\n",
    "import pandas as pd"
   ]
  },
  {
   "attachments": {},
   "cell_type": "markdown",
   "metadata": {},
   "source": [
    "### Criando conexão com nosso DB"
   ]
  },
  {
   "cell_type": "code",
   "execution_count": 2,
   "metadata": {},
   "outputs": [],
   "source": [
    "conn = sqlite3.connect('ecommerce.db')\n",
    "cursor = conn.cursor()"
   ]
  },
  {
   "attachments": {},
   "cell_type": "markdown",
   "metadata": {},
   "source": [
    "### Criando nossas tabelas (Clientes e Pedidos)"
   ]
  },
  {
   "cell_type": "code",
   "execution_count": 3,
   "metadata": {},
   "outputs": [
    {
     "data": {
      "text/plain": [
       "<sqlite3.Cursor at 0x7f174c5c03c0>"
      ]
     },
     "execution_count": 3,
     "metadata": {},
     "output_type": "execute_result"
    }
   ],
   "source": [
    "cursor.execute('''\n",
    "               CREATE TABLE IF NOT EXISTS clientes (\n",
    "                  id INTEGER NOT NULL PRIMARY KEY AUTOINCREMENT,\n",
    "                  nome TEXT,\n",
    "                  email TEXT\n",
    "               )\n",
    "               '''\n",
    ")\n",
    "\n",
    "cursor.execute('''\n",
    "               CREATE TABLE IF NOT EXISTS pedidos (\n",
    "                  id INTEGER PRIMARY KEY,\n",
    "                  produto TEXT,\n",
    "                  valor REAL,\n",
    "                  cliente_id INTEGER,\n",
    "                  FOREIGN KEY(cliente_id) REFERENCES clientes(id)\n",
    "               )\n",
    "               '''\n",
    ")\n"
   ]
  },
  {
   "attachments": {},
   "cell_type": "markdown",
   "metadata": {},
   "source": [
    "### Inserindo dados em nossa tabelas"
   ]
  },
  {
   "cell_type": "code",
   "execution_count": 4,
   "metadata": {},
   "outputs": [],
   "source": [
    "cursor.execute(\"INSERT INTO clientes (nome, email) VALUES (?, ?)\", ('otavio', 'otavio@gmail.com'))\n",
    "cursor.execute(\"INSERT INTO clientes (nome, email) VALUES (?, ?)\", ('danilo', 'danilo@hotmail.com'))\n",
    "\n",
    "produto = input('Qual o nome do produto?')\n",
    "valor = float(input('Qual o valor do produto?'))\n",
    "cliente_id = int(input('Qual o id do cliente que comprou?'))\n",
    "\n",
    "cursor.execute(\"INSERT INTO pedidos (produto, valor, cliente_id) VALUES (?, ?, ?)\", (produto, valor, cliente_id))\n",
    "\n",
    "conn.commit()\n"
   ]
  },
  {
   "cell_type": "code",
   "execution_count": 5,
   "metadata": {},
   "outputs": [],
   "source": [
    "produto = input('Qual o nome do produto?')\n",
    "valor = float(input('Qual o valor do produto?'))\n",
    "cliente_id = int(input('Qual o id do cliente que comprou?'))\n",
    "\n",
    "cursor.execute(\"INSERT INTO pedidos (produto, valor, cliente_id) VALUES (?, ?, ?)\", (produto, valor, cliente_id))\n",
    "\n",
    "\n",
    "conn.commit()"
   ]
  },
  {
   "attachments": {},
   "cell_type": "markdown",
   "metadata": {},
   "source": [
    "### Query que retorna pedidos de um determinado cliente utilizando LIKE"
   ]
  },
  {
   "cell_type": "code",
   "execution_count": 12,
   "metadata": {},
   "outputs": [
    {
     "name": "stdout",
     "output_type": "stream",
     "text": [
      "('Camiseta', 50.0)\n",
      "('Tênis', 200.0)\n",
      "('Camiseta', 50.0)\n",
      "('Tênis', 200.0)\n",
      "('Camiseta', 50.0)\n",
      "('Tênis', 200.0)\n"
     ]
    }
   ],
   "source": [
    "cursor.execute('''\n",
    "               SELECT pedidos.produto, pedidos.valor\n",
    "               FROM pedidos\n",
    "               JOIN clientes ON pedidos.cliente_id = clientes.id\n",
    "               WHERE clientes.nome LIKE 'João'\n",
    "               '''\n",
    ")\n",
    "            \n",
    "resultados = cursor.fetchall()\n",
    "for resultado in resultados:\n",
    "    print(resultado)"
   ]
  },
  {
   "cell_type": "code",
   "execution_count": 14,
   "metadata": {},
   "outputs": [
    {
     "data": {
      "text/plain": [
       "[('Camiseta', 50.0),\n",
       " ('Tênis', 200.0),\n",
       " ('Camiseta', 50.0),\n",
       " ('Tênis', 200.0),\n",
       " ('Camiseta', 50.0),\n",
       " ('Tênis', 200.0)]"
      ]
     },
     "execution_count": 14,
     "metadata": {},
     "output_type": "execute_result"
    }
   ],
   "source": [
    "resultados"
   ]
  },
  {
   "attachments": {},
   "cell_type": "markdown",
   "metadata": {},
   "source": [
    "### Query que conta quantidade de pedidos por cliente utilizando COUNT"
   ]
  },
  {
   "cell_type": "code",
   "execution_count": 15,
   "metadata": {},
   "outputs": [
    {
     "name": "stdout",
     "output_type": "stream",
     "text": [
      "('João', 6)\n",
      "('Maria', 3)\n",
      "('otavio', 1)\n"
     ]
    }
   ],
   "source": [
    "cursor.execute('''\n",
    "               SELECT clientes.nome, COUNT(pedidos.id)\n",
    "               FROM clientes\n",
    "               JOIN pedidos ON clientes.id = pedidos.cliente_id\n",
    "               GROUP BY clientes.id\n",
    "               '''\n",
    ")\n",
    "\n",
    "resultados = cursor.fetchall()\n",
    "for resultado in resultados:\n",
    "    print(resultado)\n"
   ]
  },
  {
   "attachments": {},
   "cell_type": "markdown",
   "metadata": {},
   "source": [
    "### Query que retorna o valor total gasto por cliente utilizando SUM"
   ]
  },
  {
   "cell_type": "code",
   "execution_count": 16,
   "metadata": {},
   "outputs": [
    {
     "name": "stdout",
     "output_type": "stream",
     "text": [
      "('João', 750.0)\n",
      "('Maria', 300.0)\n",
      "('otavio', 120.0)\n"
     ]
    }
   ],
   "source": [
    "cursor.execute('''\n",
    "               SELECT clientes.nome, SUM(pedidos.valor)\n",
    "               FROM clientes\n",
    "               JOIN pedidos ON clientes.id = pedidos.cliente_id\n",
    "               GROUP BY clientes.id\n",
    "               '''\n",
    ")\n",
    "\n",
    "resultados = cursor.fetchall()\n",
    "for resultado in resultados:\n",
    "    print(resultado)\n"
   ]
  },
  {
   "attachments": {},
   "cell_type": "markdown",
   "metadata": {},
   "source": [
    "## Conteúdo Bonus"
   ]
  },
  {
   "attachments": {},
   "cell_type": "markdown",
   "metadata": {},
   "source": [
    "### Transformando nossos dados em Pandas.DataFrame"
   ]
  },
  {
   "cell_type": "code",
   "execution_count": 17,
   "metadata": {},
   "outputs": [
    {
     "data": {
      "text/html": [
       "<div>\n",
       "<style scoped>\n",
       "    .dataframe tbody tr th:only-of-type {\n",
       "        vertical-align: middle;\n",
       "    }\n",
       "\n",
       "    .dataframe tbody tr th {\n",
       "        vertical-align: top;\n",
       "    }\n",
       "\n",
       "    .dataframe thead th {\n",
       "        text-align: right;\n",
       "    }\n",
       "</style>\n",
       "<table border=\"1\" class=\"dataframe\">\n",
       "  <thead>\n",
       "    <tr style=\"text-align: right;\">\n",
       "      <th></th>\n",
       "      <th>id</th>\n",
       "      <th>produto</th>\n",
       "      <th>valor</th>\n",
       "      <th>cliente_id</th>\n",
       "    </tr>\n",
       "  </thead>\n",
       "  <tbody>\n",
       "    <tr>\n",
       "      <th>0</th>\n",
       "      <td>1</td>\n",
       "      <td>Camiseta</td>\n",
       "      <td>50.0</td>\n",
       "      <td>1</td>\n",
       "    </tr>\n",
       "    <tr>\n",
       "      <th>1</th>\n",
       "      <td>2</td>\n",
       "      <td>Tênis</td>\n",
       "      <td>200.0</td>\n",
       "      <td>1</td>\n",
       "    </tr>\n",
       "    <tr>\n",
       "      <th>2</th>\n",
       "      <td>3</td>\n",
       "      <td>Calça</td>\n",
       "      <td>100.0</td>\n",
       "      <td>2</td>\n",
       "    </tr>\n",
       "    <tr>\n",
       "      <th>3</th>\n",
       "      <td>4</td>\n",
       "      <td>Camiseta</td>\n",
       "      <td>50.0</td>\n",
       "      <td>1</td>\n",
       "    </tr>\n",
       "    <tr>\n",
       "      <th>4</th>\n",
       "      <td>5</td>\n",
       "      <td>Tênis</td>\n",
       "      <td>200.0</td>\n",
       "      <td>1</td>\n",
       "    </tr>\n",
       "  </tbody>\n",
       "</table>\n",
       "</div>"
      ],
      "text/plain": [
       "   id   produto  valor  cliente_id\n",
       "0   1  Camiseta   50.0           1\n",
       "1   2     Tênis  200.0           1\n",
       "2   3     Calça  100.0           2\n",
       "3   4  Camiseta   50.0           1\n",
       "4   5     Tênis  200.0           1"
      ]
     },
     "execution_count": 17,
     "metadata": {},
     "output_type": "execute_result"
    }
   ],
   "source": [
    "cursor.execute('''\n",
    "               SELECT * \n",
    "               FROM pedidos\n",
    "               '''\n",
    ")\n",
    "\n",
    "rows_pedidos = cursor.fetchall()\n",
    "\n",
    "df_pedidos = pd.DataFrame(rows_pedidos, columns=[column[0] for column in cursor.description])\n",
    "\n",
    "df_pedidos.head()"
   ]
  },
  {
   "cell_type": "code",
   "execution_count": 18,
   "metadata": {},
   "outputs": [
    {
     "data": {
      "text/html": [
       "<div>\n",
       "<style scoped>\n",
       "    .dataframe tbody tr th:only-of-type {\n",
       "        vertical-align: middle;\n",
       "    }\n",
       "\n",
       "    .dataframe tbody tr th {\n",
       "        vertical-align: top;\n",
       "    }\n",
       "\n",
       "    .dataframe thead th {\n",
       "        text-align: right;\n",
       "    }\n",
       "</style>\n",
       "<table border=\"1\" class=\"dataframe\">\n",
       "  <thead>\n",
       "    <tr style=\"text-align: right;\">\n",
       "      <th></th>\n",
       "      <th>id</th>\n",
       "      <th>nome</th>\n",
       "      <th>email</th>\n",
       "    </tr>\n",
       "  </thead>\n",
       "  <tbody>\n",
       "    <tr>\n",
       "      <th>0</th>\n",
       "      <td>1</td>\n",
       "      <td>João</td>\n",
       "      <td>joao@gmail.com</td>\n",
       "    </tr>\n",
       "    <tr>\n",
       "      <th>1</th>\n",
       "      <td>2</td>\n",
       "      <td>Maria</td>\n",
       "      <td>maria@hotmail.com</td>\n",
       "    </tr>\n",
       "    <tr>\n",
       "      <th>2</th>\n",
       "      <td>3</td>\n",
       "      <td>João</td>\n",
       "      <td>joao@gmail.com</td>\n",
       "    </tr>\n",
       "    <tr>\n",
       "      <th>3</th>\n",
       "      <td>4</td>\n",
       "      <td>Maria</td>\n",
       "      <td>maria@hotmail.com</td>\n",
       "    </tr>\n",
       "    <tr>\n",
       "      <th>4</th>\n",
       "      <td>5</td>\n",
       "      <td>otavio</td>\n",
       "      <td>otavio@gmail.com</td>\n",
       "    </tr>\n",
       "  </tbody>\n",
       "</table>\n",
       "</div>"
      ],
      "text/plain": [
       "   id    nome              email\n",
       "0   1    João     joao@gmail.com\n",
       "1   2   Maria  maria@hotmail.com\n",
       "2   3    João     joao@gmail.com\n",
       "3   4   Maria  maria@hotmail.com\n",
       "4   5  otavio   otavio@gmail.com"
      ]
     },
     "execution_count": 18,
     "metadata": {},
     "output_type": "execute_result"
    }
   ],
   "source": [
    "cursor.execute('''\n",
    "               SELECT * \n",
    "               FROM clientes\n",
    "               '''\n",
    ")\n",
    "\n",
    "rows_clientes = cursor.fetchall()\n",
    "\n",
    "df_clientes = pd.DataFrame(rows_clientes, columns=[column[0] for column in cursor.description])\n",
    "\n",
    "df_clientes.head()"
   ]
  },
  {
   "attachments": {},
   "cell_type": "markdown",
   "metadata": {},
   "source": [
    "### Unindo nossas tabelas com pandas"
   ]
  },
  {
   "cell_type": "code",
   "execution_count": 19,
   "metadata": {},
   "outputs": [],
   "source": [
    "df_merged = df_clientes.merge(df_pedidos, left_on='id', right_on='cliente_id', how='left')"
   ]
  },
  {
   "cell_type": "code",
   "execution_count": 20,
   "metadata": {},
   "outputs": [
    {
     "data": {
      "text/html": [
       "<div>\n",
       "<style scoped>\n",
       "    .dataframe tbody tr th:only-of-type {\n",
       "        vertical-align: middle;\n",
       "    }\n",
       "\n",
       "    .dataframe tbody tr th {\n",
       "        vertical-align: top;\n",
       "    }\n",
       "\n",
       "    .dataframe thead th {\n",
       "        text-align: right;\n",
       "    }\n",
       "</style>\n",
       "<table border=\"1\" class=\"dataframe\">\n",
       "  <thead>\n",
       "    <tr style=\"text-align: right;\">\n",
       "      <th></th>\n",
       "      <th>id_x</th>\n",
       "      <th>nome</th>\n",
       "      <th>email</th>\n",
       "      <th>id_y</th>\n",
       "      <th>produto</th>\n",
       "      <th>valor</th>\n",
       "      <th>cliente_id</th>\n",
       "    </tr>\n",
       "  </thead>\n",
       "  <tbody>\n",
       "    <tr>\n",
       "      <th>0</th>\n",
       "      <td>1</td>\n",
       "      <td>João</td>\n",
       "      <td>joao@gmail.com</td>\n",
       "      <td>1.0</td>\n",
       "      <td>Camiseta</td>\n",
       "      <td>50.0</td>\n",
       "      <td>1.0</td>\n",
       "    </tr>\n",
       "    <tr>\n",
       "      <th>1</th>\n",
       "      <td>1</td>\n",
       "      <td>João</td>\n",
       "      <td>joao@gmail.com</td>\n",
       "      <td>2.0</td>\n",
       "      <td>Tênis</td>\n",
       "      <td>200.0</td>\n",
       "      <td>1.0</td>\n",
       "    </tr>\n",
       "    <tr>\n",
       "      <th>2</th>\n",
       "      <td>1</td>\n",
       "      <td>João</td>\n",
       "      <td>joao@gmail.com</td>\n",
       "      <td>4.0</td>\n",
       "      <td>Camiseta</td>\n",
       "      <td>50.0</td>\n",
       "      <td>1.0</td>\n",
       "    </tr>\n",
       "    <tr>\n",
       "      <th>3</th>\n",
       "      <td>1</td>\n",
       "      <td>João</td>\n",
       "      <td>joao@gmail.com</td>\n",
       "      <td>5.0</td>\n",
       "      <td>Tênis</td>\n",
       "      <td>200.0</td>\n",
       "      <td>1.0</td>\n",
       "    </tr>\n",
       "    <tr>\n",
       "      <th>4</th>\n",
       "      <td>1</td>\n",
       "      <td>João</td>\n",
       "      <td>joao@gmail.com</td>\n",
       "      <td>7.0</td>\n",
       "      <td>Camiseta</td>\n",
       "      <td>50.0</td>\n",
       "      <td>1.0</td>\n",
       "    </tr>\n",
       "    <tr>\n",
       "      <th>5</th>\n",
       "      <td>1</td>\n",
       "      <td>João</td>\n",
       "      <td>joao@gmail.com</td>\n",
       "      <td>8.0</td>\n",
       "      <td>Tênis</td>\n",
       "      <td>200.0</td>\n",
       "      <td>1.0</td>\n",
       "    </tr>\n",
       "    <tr>\n",
       "      <th>6</th>\n",
       "      <td>2</td>\n",
       "      <td>Maria</td>\n",
       "      <td>maria@hotmail.com</td>\n",
       "      <td>3.0</td>\n",
       "      <td>Calça</td>\n",
       "      <td>100.0</td>\n",
       "      <td>2.0</td>\n",
       "    </tr>\n",
       "    <tr>\n",
       "      <th>7</th>\n",
       "      <td>2</td>\n",
       "      <td>Maria</td>\n",
       "      <td>maria@hotmail.com</td>\n",
       "      <td>6.0</td>\n",
       "      <td>Calça</td>\n",
       "      <td>100.0</td>\n",
       "      <td>2.0</td>\n",
       "    </tr>\n",
       "    <tr>\n",
       "      <th>8</th>\n",
       "      <td>2</td>\n",
       "      <td>Maria</td>\n",
       "      <td>maria@hotmail.com</td>\n",
       "      <td>9.0</td>\n",
       "      <td>Calça</td>\n",
       "      <td>100.0</td>\n",
       "      <td>2.0</td>\n",
       "    </tr>\n",
       "    <tr>\n",
       "      <th>9</th>\n",
       "      <td>3</td>\n",
       "      <td>João</td>\n",
       "      <td>joao@gmail.com</td>\n",
       "      <td>NaN</td>\n",
       "      <td>NaN</td>\n",
       "      <td>NaN</td>\n",
       "      <td>NaN</td>\n",
       "    </tr>\n",
       "    <tr>\n",
       "      <th>10</th>\n",
       "      <td>4</td>\n",
       "      <td>Maria</td>\n",
       "      <td>maria@hotmail.com</td>\n",
       "      <td>NaN</td>\n",
       "      <td>NaN</td>\n",
       "      <td>NaN</td>\n",
       "      <td>NaN</td>\n",
       "    </tr>\n",
       "    <tr>\n",
       "      <th>11</th>\n",
       "      <td>5</td>\n",
       "      <td>otavio</td>\n",
       "      <td>otavio@gmail.com</td>\n",
       "      <td>10.0</td>\n",
       "      <td>Bermuda</td>\n",
       "      <td>120.0</td>\n",
       "      <td>5.0</td>\n",
       "    </tr>\n",
       "    <tr>\n",
       "      <th>12</th>\n",
       "      <td>6</td>\n",
       "      <td>danilo</td>\n",
       "      <td>danilo@hotmail.com</td>\n",
       "      <td>NaN</td>\n",
       "      <td>NaN</td>\n",
       "      <td>NaN</td>\n",
       "      <td>NaN</td>\n",
       "    </tr>\n",
       "  </tbody>\n",
       "</table>\n",
       "</div>"
      ],
      "text/plain": [
       "    id_x    nome               email  id_y   produto  valor  cliente_id\n",
       "0      1    João      joao@gmail.com   1.0  Camiseta   50.0         1.0\n",
       "1      1    João      joao@gmail.com   2.0     Tênis  200.0         1.0\n",
       "2      1    João      joao@gmail.com   4.0  Camiseta   50.0         1.0\n",
       "3      1    João      joao@gmail.com   5.0     Tênis  200.0         1.0\n",
       "4      1    João      joao@gmail.com   7.0  Camiseta   50.0         1.0\n",
       "5      1    João      joao@gmail.com   8.0     Tênis  200.0         1.0\n",
       "6      2   Maria   maria@hotmail.com   3.0     Calça  100.0         2.0\n",
       "7      2   Maria   maria@hotmail.com   6.0     Calça  100.0         2.0\n",
       "8      2   Maria   maria@hotmail.com   9.0     Calça  100.0         2.0\n",
       "9      3    João      joao@gmail.com   NaN       NaN    NaN         NaN\n",
       "10     4   Maria   maria@hotmail.com   NaN       NaN    NaN         NaN\n",
       "11     5  otavio    otavio@gmail.com  10.0   Bermuda  120.0         5.0\n",
       "12     6  danilo  danilo@hotmail.com   NaN       NaN    NaN         NaN"
      ]
     },
     "execution_count": 20,
     "metadata": {},
     "output_type": "execute_result"
    }
   ],
   "source": [
    "df_merged"
   ]
  },
  {
   "attachments": {},
   "cell_type": "markdown",
   "metadata": {},
   "source": [
    "### Criando um Dataframe somente com Pedidos do João"
   ]
  },
  {
   "cell_type": "code",
   "execution_count": 21,
   "metadata": {},
   "outputs": [],
   "source": [
    "df_joao = df_merged.loc[df_merged['nome'] == 'João', ['nome', 'produto', 'valor']]"
   ]
  },
  {
   "cell_type": "code",
   "execution_count": 22,
   "metadata": {},
   "outputs": [
    {
     "data": {
      "text/html": [
       "<div>\n",
       "<style scoped>\n",
       "    .dataframe tbody tr th:only-of-type {\n",
       "        vertical-align: middle;\n",
       "    }\n",
       "\n",
       "    .dataframe tbody tr th {\n",
       "        vertical-align: top;\n",
       "    }\n",
       "\n",
       "    .dataframe thead th {\n",
       "        text-align: right;\n",
       "    }\n",
       "</style>\n",
       "<table border=\"1\" class=\"dataframe\">\n",
       "  <thead>\n",
       "    <tr style=\"text-align: right;\">\n",
       "      <th></th>\n",
       "      <th>nome</th>\n",
       "      <th>produto</th>\n",
       "      <th>valor</th>\n",
       "    </tr>\n",
       "  </thead>\n",
       "  <tbody>\n",
       "    <tr>\n",
       "      <th>0</th>\n",
       "      <td>João</td>\n",
       "      <td>Camiseta</td>\n",
       "      <td>50.0</td>\n",
       "    </tr>\n",
       "    <tr>\n",
       "      <th>1</th>\n",
       "      <td>João</td>\n",
       "      <td>Tênis</td>\n",
       "      <td>200.0</td>\n",
       "    </tr>\n",
       "    <tr>\n",
       "      <th>2</th>\n",
       "      <td>João</td>\n",
       "      <td>Camiseta</td>\n",
       "      <td>50.0</td>\n",
       "    </tr>\n",
       "    <tr>\n",
       "      <th>3</th>\n",
       "      <td>João</td>\n",
       "      <td>Tênis</td>\n",
       "      <td>200.0</td>\n",
       "    </tr>\n",
       "    <tr>\n",
       "      <th>4</th>\n",
       "      <td>João</td>\n",
       "      <td>Camiseta</td>\n",
       "      <td>50.0</td>\n",
       "    </tr>\n",
       "    <tr>\n",
       "      <th>5</th>\n",
       "      <td>João</td>\n",
       "      <td>Tênis</td>\n",
       "      <td>200.0</td>\n",
       "    </tr>\n",
       "    <tr>\n",
       "      <th>9</th>\n",
       "      <td>João</td>\n",
       "      <td>NaN</td>\n",
       "      <td>NaN</td>\n",
       "    </tr>\n",
       "  </tbody>\n",
       "</table>\n",
       "</div>"
      ],
      "text/plain": [
       "   nome   produto  valor\n",
       "0  João  Camiseta   50.0\n",
       "1  João     Tênis  200.0\n",
       "2  João  Camiseta   50.0\n",
       "3  João     Tênis  200.0\n",
       "4  João  Camiseta   50.0\n",
       "5  João     Tênis  200.0\n",
       "9  João       NaN    NaN"
      ]
     },
     "execution_count": 22,
     "metadata": {},
     "output_type": "execute_result"
    }
   ],
   "source": [
    "df_joao"
   ]
  },
  {
   "attachments": {},
   "cell_type": "markdown",
   "metadata": {},
   "source": [
    "### Obtendo valor total de compras do João"
   ]
  },
  {
   "cell_type": "code",
   "execution_count": 23,
   "metadata": {},
   "outputs": [
    {
     "name": "stdout",
     "output_type": "stream",
     "text": [
      "Valor total de compras do João: 750.0\n"
     ]
    }
   ],
   "source": [
    "print(f'Valor total de compras do João:', df_joao['valor'].sum())"
   ]
  },
  {
   "cell_type": "code",
   "execution_count": null,
   "metadata": {},
   "outputs": [],
   "source": []
  }
 ],
 "metadata": {
  "kernelspec": {
   "display_name": "ultimaschool",
   "language": "python",
   "name": "python3"
  },
  "language_info": {
   "codemirror_mode": {
    "name": "ipython",
    "version": 3
   },
   "file_extension": ".py",
   "mimetype": "text/x-python",
   "name": "python",
   "nbconvert_exporter": "python",
   "pygments_lexer": "ipython3",
   "version": "3.10.9"
  },
  "orig_nbformat": 4
 },
 "nbformat": 4,
 "nbformat_minor": 2
}
